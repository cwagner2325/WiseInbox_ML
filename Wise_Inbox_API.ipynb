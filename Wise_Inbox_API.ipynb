{
  "cells": [
    {
      "cell_type": "markdown",
      "metadata": {
        "id": "view-in-github",
        "colab_type": "text"
      },
      "source": [
        "<a href=\"https://colab.research.google.com/github/cwagner2325/WiseInbox_ML/blob/main/Wise_Inbox_API.ipynb\" target=\"_parent\"><img src=\"https://colab.research.google.com/assets/colab-badge.svg\" alt=\"Open In Colab\"/></a>"
      ]
    },
    {
      "cell_type": "code",
      "execution_count": null,
      "metadata": {
        "id": "TS9TTfB_nIl0"
      },
      "outputs": [],
      "source": [
        "!pip install fastapi\n",
        "!pip install uvicorn\n",
        "!pip install pickle5\n",
        "!pip install pydantic\n",
        "!pip install scikit-learn\n",
        "!pip install requests\n",
        "!pip install pypi-json\n",
        "!pip install pyngrok\n",
        "!pip install nest-asyncio\n",
        "!pip install scikit-learn"
      ]
    },
    {
      "cell_type": "code",
      "execution_count": 84,
      "metadata": {
        "id": "OSIh9lLguWZA"
      },
      "outputs": [],
      "source": [
        "from fastapi import FastAPI\n",
        "from pydantic import BaseModel\n",
        "import pickle\n",
        "import json\n",
        "import uvicorn\n",
        "from pyngrok import ngrok\n",
        "from fastapi.middleware.cors import CORSMiddleware\n",
        "import nest_asyncio\n",
        "import random\n",
        "import os\n",
        "from google.colab import userdata\n",
        "from pyngrok import conf\n",
        "from time import sleep\n",
        "import sklearn\n",
        "from sklearn.pipeline import Pipeline"
      ]
    },
    {
      "cell_type": "code",
      "execution_count": 101,
      "metadata": {
        "id": "3M3gj8Knum4F"
      },
      "outputs": [],
      "source": [
        "app = FastAPI()"
      ]
    },
    {
      "cell_type": "code",
      "execution_count": 102,
      "metadata": {
        "id": "J_ldF_cPupgQ"
      },
      "outputs": [],
      "source": [
        "origins = [\"*\"]\n",
        "\n",
        "app.add_middleware(\n",
        "    CORSMiddleware,\n",
        "    allow_origins=origins,\n",
        "    allow_credentials=True,\n",
        "    allow_methods=[\"*\"],\n",
        "    allow_headers=[\"*\"],\n",
        ")"
      ]
    },
    {
      "cell_type": "code",
      "execution_count": 103,
      "metadata": {
        "id": "jzTzJRrnurtd"
      },
      "outputs": [],
      "source": [
        "class model_input(BaseModel):\n",
        "\n",
        "    Email : str\n",
        "    Sender: str\n",
        "    Subject : str"
      ]
    },
    {
      "cell_type": "code",
      "execution_count": 104,
      "metadata": {
        "id": "HwlxDP2AvOgD"
      },
      "outputs": [],
      "source": [
        "with open('/BodyModel1', 'rb') as f:\n",
        "    model = pickle.load(f)"
      ]
    },
    {
      "cell_type": "code",
      "execution_count": 105,
      "metadata": {
        "id": "n0r532SwKCXm"
      },
      "outputs": [],
      "source": [
        "def predictEmail(input_text):\n",
        "    prediction = model.predict([input_text])\n",
        "\n",
        "    probabilities = model.predict_proba([input_text])\n",
        "\n",
        "    predicted_class = prediction[0]\n",
        "    conf_index = 0 if predicted_class == \"Phishing Email\" else 1\n",
        "    confidence = probabilities[0][conf_index]\n",
        "\n",
        "    print(confidence, \"chance this is a\", predicted_class)\n",
        "\n",
        "    return predicted_class, confidence"
      ]
    },
    {
      "cell_type": "code",
      "execution_count": 106,
      "metadata": {
        "id": "xgBICSj-u8xc"
      },
      "outputs": [],
      "source": [
        "@app.post('/email_prediction')\n",
        "def email_prediction(input_parameters : model_input):\n",
        "    input_data = input_parameters.json()\n",
        "    input_dictionary = json.loads(input_data)\n",
        "\n",
        "    emailBody = input_dictionary['Email']\n",
        "    sender = input_dictionary['Sender']\n",
        "    subject = input_dictionary['Subject']\n",
        "\n",
        "\n",
        "    predictionResult, confidence = predictEmail(emailBody)\n",
        "\n",
        "    if predictionResult == \"Phishing Email\":\n",
        "        # If the model is 100% confident it's a phishing email, set the prediction to 50\n",
        "        prediction = 75 - ((confidence - .5) * 60)\n",
        "    else:\n",
        "        # If the model is 100% confident it's a safe email, set the prediction to 100\n",
        "        prediction = 75 + ((confidence - .5) * 60)\n",
        "\n",
        "    return {\"prediction\": prediction}"
      ]
    },
    {
      "cell_type": "code",
      "execution_count": 107,
      "metadata": {
        "colab": {
          "base_uri": "https://localhost:8080/"
        },
        "id": "Ot0d9HUowPUY",
        "outputId": "e837afc2-a95f-441f-b1b2-1ffe08131fe6"
      },
      "outputs": [
        {
          "output_type": "stream",
          "name": "stdout",
          "text": [
            "Running at public URL: https://ed19-35-188-239-227.ngrok-free.app/email_prediction\n",
            "Dear Valued Customer,\n",
            "\n",
            "We understand the importance of keeping your account secure, which is why we're reaching out to you regarding a recent security review. During this process, we identified some unusual activity on your account, and we kindly ask you to verify your information to prevent any unauthorized access.\n",
            "\n",
            "To ensure the safety of your account, please click on the following link and follow the instructions provided: https://secure-verificationportal.com\n",
            "\n",
            "Please note that if you do not update your information within the next 48 hours, we may be forced to temporarily suspend your account until the verification process is complete.\n",
            "\n",
            "We apologize for any inconvenience this may cause, but rest assured, we're committed to protecting your sensitive data and maintaining the highest level of security for our valued customers.\n",
            "\n",
            "Thank you for your prompt attention to this matter.\n",
            "\n",
            "Sincerely,\n",
            "[Company Name] Security Team\n",
            "\n",
            "0.6 chance this is a Phishing Email\n",
            "[image: Google]\n",
            "A new sign-in on Mac\n",
            "\n",
            "\n",
            "wiseinboxtester@gmail.com\n",
            "We noticed a new sign-in to your Google Account on a Mac device. If this\n",
            "was you, you don’t need to do anything. If not, we’ll help you secure your\n",
            "account.\n",
            "Check activity\n",
            "<https://accounts.google.com/AccountChooser?Email=wiseinboxtester@gmail.com&continue=https://myaccount.google.com/alert/nt/1710357056000?rfn%3D325%26rfnc%3D1%26eid%3D-6655047308753965202%26et%3D0>\n",
            "You can also see security activity at\n",
            "https://myaccount.google.com/notifications\n",
            "You received this email to let you know about important changes to your\n",
            "Google Account and services.\n",
            "© 2024 Google LLC, 1600 Amphitheatre Parkway, Mountain View, CA 94043, USA\n",
            "\n",
            "0.5 chance this is a Phishing Email\n",
            "Glassdoor See all the open roles across today's top trending industries. \n",
            " ‌ ‌ ‌ ‌ ‌ ‌ ‌ ‌ ‌ ‌ ‌ ‌ ‌ ‌ ‌ ‌ ‌ ‌ ‌ ‌ ‌ ‌ ‌ ‌ ‌ ‌ ‌ ‌ ‌ ‌ ‌ ‌ ‌ ‌ ‌ ‌ ‌ ‌ ‌ \n",
            "‌ ‌ ‌ ‌ ‌ ‌ ‌ ‌ ‌ ‌ ‌ ‌ ‌ ‌ ‌ ‌ ‌ ‌ ‌ ‌ ‌ ‌ ‌ ‌ ‌ ‌ ‌ ‌ ‌ ‌ ‌ ‌ ‌ ‌ ‌ ‌ ‌ ‌ ‌ ‌ \n",
            "‌ ‌ ‌ ‌ ‌ ‌ ‌ ‌ ‌ ‌ ͏ ͏͏ ͏͏ ͏  <>  <>   \n",
            " <https://www.glassdoor.com/blog/companies-actively-hiring/> \n",
            " <https://www.glassdoor.com/blog/companies-actively-hiring/>   \n",
            "Companies actively hiring\n",
            "\n",
            "Ready to spring into a new job? Whether it's a new title or a whole career \n",
            "change, here are 47 companies actively hiring this month.\n",
            "\n",
            "See companies <https://www.glassdoor.com/blog/companies-actively-hiring/>\n",
            "  \n",
            "\n",
            " <https://join.glassdoor.com/thelonelyoffice/>      \n",
            "<https://www.glassdoor.com/>  <https://www.linkedin.com/company/glassdoor/>  \n",
            "<https://www.instagram.com/glassdoor>  <https://www.tiktok.com/@glassdoor> \n",
            "300 Mission Street, San Francisco, CA 94105\n",
            "\n",
            "©2008–2024, Glassdoor LLC \"Glassdoor\" and its logo are registered trademarks \n",
            "of Glassdoor LLC.\n",
            "\n",
            "This message was sent to wiseinboxtester@gmail.com\n",
            "\n",
            "Privacy Policy <https://hrtechprivacy.com/brands/glassdoor> | Unsubscribe \n",
            "<https://mailesp.glassdoor.com/e/eh?_t=0094c5801d8241768b44a3820ec5de16&_m=6bf585a5563f4f71a842c408e19d64ed&_e=yJDH43kQhCCvXuqnq-WKeF1cvy8jC3EBN3ZUoTWNSKEjfEGYFj-NxL1hQ9hFET5UQwZ_oUTEisv5CQwhjp67P-UmYSB1jhhTd_8Yu5VpIccUTR8AYjUAD3-qRQDwFLuOX8K6ctPgA8ZuTwiulqXTaCQqRtPodq02oXoodGWfPegj74t6x6qyd-L0F76aJwA7hQvPfF2MpX24TV03UPF97ktUp788XPS0NoSNS2Ig2_uNqp8gJjY-M9G48Eua59QRxTfQ_Xs8-wDv6DCj5qkgYnLwyUN9LW07zP8OVWGTvMTjuNJKkEzs2arDuFZQWtHVWFLMEoO2VwXS-OZTsDcwXA%3D%3D>\n",
            " <https://www.glassdoor.com/>   \n",
            "0.5 chance this is a Phishing Email\n",
            "\n",
            "1.0 chance this is a Phishing Email\n",
            "\n",
            "1.0 chance this is a Phishing Email\n",
            "Glassdoor The Lonely Office podcast on real anonymous stories of double lives. \n",
            " ‌ ‌ ‌ ‌ ‌ ‌ ‌ ‌ ‌ ‌ ‌ ‌ ‌ ‌ ‌ ‌ ‌ ‌ ‌ ‌ ‌ ‌ ‌ ‌ ‌ ‌ ‌ ‌ ‌ ‌ ‌ ‌ ‌ ‌ ‌ ‌ ‌ ‌ ‌ \n",
            "‌ ‌ ‌ ‌ ‌ ‌ ‌ ‌ ‌ ‌ ‌ ‌ ‌ ‌ ‌ ‌ ‌ ‌ ‌ ‌ ‌ ‌ ‌ ‌ ‌ ‌ ‌ ‌ ‌ ‌ ‌ ‌ ‌ ‌ ‌ ‌ ‌ ‌ ‌ ‌ \n",
            "‌ ‌ ‌ ‌ ‌ ‌ ‌ ‌ ‌ ‌ ͏ ͏͏ ͏͏ ͏  <https://glassdoor.com/home>  \n",
            "<https://glassdoor.com/home>    <https://join.glassdoor.com/thelonelyoffice/>   \n",
            "Two Full-Time Jobs\n",
            "\n",
            "In this week's episode, we’re discussing anonymous stories from professional \n",
            "double-timers: two jobs, two time zones, and even two identities. It has us \n",
            "wondering: how did we even get here? And legally, what does it mean?\n",
            "\n",
            "Listen now\n",
            "   <https://joinfishbowl.com/e/bzWzQhYJIHb>  \n",
            "<https://joinfishbowl.com/e/UbMJDyhJIHb>   \n",
            "Want to listen elsewhere? <https://join.glassdoor.com/thelonelyoffice/>\n",
            "     <https://www.glassdoor.com/>  <https://www.linkedin/glassdoor>  \n",
            "<https://www.instagram.com/glassdoor>  <https://www.tiktok.com/@glassdoor> \n",
            "300 Mission Street, San Fransisco, CA 94105\n",
            "\n",
            "©2008–2024, Glassdoor, Inc., \"Glassdoor\" and its logo are registered \n",
            "trademarks of Glassdoor, Inc.\n",
            "\n",
            "This message was sent to wiseinboxtester@gmail.com\n",
            "\n",
            "Privacy Policy <https://hrtechprivacy.com/brands/glassdoor> | Unsubscribe \n",
            "<https://mailesp.glassdoor.com/e/eh?_t=0094c5801d8241768b44a3820ec5de16&_m=cdf47e7eaa454c359e8c949bc9ebb1c8&_e=E0C1w466mcrNEkP1_qa8w2PV-qBa65tv9_yIBnMkSD1s1aWjGGgBzVJ1Oc29QCftVZvfv4Y_6UDLYMVT5MFiSccXoG_cZ6VBaqcuJjqRjv6pw2hXmYNNbXsIfqDZcUVNgElLNAJU_NWRGCbv0PlMDBf_dx9gEfH3o9TK0Y6Rz7vfjz2S6KyNrPk1OTUxej-Z5gVrlMhtyabk8BqJ14JRJUDNiy1F7lLe-ROoiofJ0p-CihoxN-u-Z8-7ee84pIWdQOBMCGIbrjwvAtdBfYQLSgzjxbFKcSwPFKh703gn3cJ6LQEHFiSLqkzdUQdmgEIiJVOwnrj7_Kj-u28oDdnkkg%3D%3D>\n",
            " <https://glassdoor.com/home>   \n",
            "0.5 chance this is a Phishing Email\n",
            "Glassdoor The Lonely Office podcast tackles trade work \n",
            " ‌ ‌ ‌ ‌ ‌ ‌ ‌ ‌ ‌ ‌ ‌ ‌ ‌ ‌ ‌ ‌ ‌ ‌ ‌ ‌ ‌ ‌ ‌ ‌ ‌ ‌ ‌ ‌ ‌ ‌ ‌ ‌ ‌ ‌ ‌ ‌ ‌ ‌ ‌ \n",
            "‌ ‌ ‌ ‌ ‌ ‌ ‌ ‌ ‌ ‌ ‌ ‌ ‌ ‌ ‌ ‌ ‌ ‌ ‌ ‌ ‌ ‌ ‌ ‌ ‌ ‌ ‌ ‌ ‌ ‌ ‌ ‌ ‌ ‌ ‌ ‌ ‌ ‌ ‌ ‌ \n",
            "‌ ‌ ‌ ‌ ‌ ‌ ‌ ‌ ‌ ‌ ͏ ͏͏ ͏͏ ͏  <https://glassdoor.com/home>  \n",
            "<https://glassdoor.com/home>    <https://join.glassdoor.com/thelonelyoffice/>   \n",
            "Revenge of the Blue Collar\n",
            "\n",
            "Despite the social stigma surrounding blue-collar jobs, soaring costs of \n",
            "higher education and increased demand for skilled trades have led to a new \n",
            "cohort of trade workers finding success in today’s job market.\n",
            "\n",
            "Tune in as we chat about the conditions that make trade work more appealing — \n",
            "and what’s on the horizon.\n",
            "\n",
            "Listen now\n",
            "   <https://joinfishbowl.com/e/Cij7wca6wHb>  \n",
            "<https://joinfishbowl.com/e/qkLppqL5wHb>   \n",
            "Want to listen elsewhere? <https://join.glassdoor.com/thelonelyoffice/>\n",
            "  \n",
            "\n",
            " <https://join.glassdoor.com/thelonelyoffice/>      \n",
            "<https://www.glassdoor.com/>  <https://www.linkedin/glassdoor>  \n",
            "<https://www.instagram.com/glassdoor>  <https://www.tiktok.com/@glassdoor> \n",
            "300 Mission Street, San Fransisco, CA 94105\n",
            "\n",
            "©2008–2024, Glassdoor, Inc., \"Glassdoor\" and its logo are registered \n",
            "trademarks of Glassdoor, Inc.\n",
            "\n",
            "This message was sent to wiseinboxtester@gmail.com\n",
            "\n",
            "Privacy Policy <https://hrtechprivacy.com/brands/glassdoor> | Unsubscribe \n",
            "<https://mailesp.glassdoor.com/e/eh?_t=0094c5801d8241768b44a3820ec5de16&_m=97bf38b8a3614644b166b64d71094544&_e=_1j2pdlzfAo0iFAaY-wr0Cz4jWl8LBkJkVhnFuJ-19oD1_m9jYv4EBJyStmvf-1enPxE2dXjUr5MMhZKKpZzTkFosJy-wT6RGwGkJmnhVlTqvaxRNcHenJDYH-xL8iXtm2i16T872Qfe-60W-nVEj0hPU5kisEu8ed2u9JwGw2FaA0AqiTB4G4gJwYv31yMbFrcG5JQWqN6F1qJlhyPihYgL3lESaCpSuxFIkwrdvwD41BqxZ0FA8md4nm27RAghGbixBC4tVlRd5unxLBhfQ03zQtxS6h1zVAJn6YbJzPalzR3ZVFVEDEqkVrwL2BjID0PbDmiXGdgILJkX0ZBzkQ%3D%3D>\n",
            " <https://glassdoor.com/home>   \n",
            "0.6 chance this is a Phishing Email\n",
            "Glassdoor On all things worklife. \n",
            " ‌ ‌ ‌ ‌ ‌ ‌ ‌ ‌ ‌ ‌ ‌ ‌ ‌ ‌ ‌ ‌ ‌ ‌ ‌ ‌ ‌ ‌ ‌ ‌ ‌ ‌ ‌ ‌ ‌ ‌ ‌ ‌ ‌ ‌ ‌ ‌ ‌ ‌ ‌ \n",
            "‌ ‌ ‌ ‌ ‌ ‌ ‌ ‌ ‌ ‌ ‌ ‌ ‌ ‌ ‌ ‌ ‌ ‌ ‌ ‌ ‌ ‌ ‌ ‌ ‌ ‌ ‌ ‌ ‌ ‌ ‌ ‌ ‌ ‌ ‌ ‌ ‌ ‌ ‌ ‌ \n",
            "‌ ‌ ‌ ‌ ‌ ‌ ‌ ‌ ‌ ‌ ‌ ‌ ‌ ‌ ‌ ‌  <https://www.glassdoor.com/Community/index.htm>\n",
            " <https://www.glassdoor.com/Community/index.htm>    \n",
            "<https://join.glassdoor.com/thelonelyoffice/>   \n",
            "Where work meets life\n",
            "\n",
            "If you've ever wondered \"How much of my real self should I bring to work?\" or \n",
            "\"Is it okay to turn down this promotion?\"—this podcast is for you.\n",
            "\n",
            "Listen now\n",
            "   <https://podcasts.apple.com/us/podcast/the-lonely-office/id1673821227>  \n",
            "<https://open.spotify.com/show/0GywP7f7pR6omgIazr93Ht>   \n",
            "Want to listen elsewhere? <https://join.glassdoor.com/thelonelyoffice/>\n",
            "   <https://join.glassdoor.com/thelonelyoffice/> \n",
            "Your Hosts\n",
            "\n",
            "Matt Sunbulli - Founder, First Draft \n",
            "Cofounder, Fishbowl\n",
            "\n",
            "Leah Ova - Ad Executive, Corporate Mom, Tiktok Influencer\n",
            "\n",
            "Aaron Calafato - Host & Storyteller, 7 Minute Stories Podcast\n",
            "     <https://www.glassdoor.com/>  <https://www.linkedin/glassdoor>  \n",
            "<https://www.instagram.com/glassdoor>  <https://www.tiktok.com/@glassdoor> \n",
            "300 Mission Street, San Fransisco, CA 94105\n",
            "\n",
            "©2008–2024, Glassdoor, Inc., \"Glassdoor\" and its logo are registered \n",
            "trademarks of Glassdoor, Inc.\n",
            "\n",
            "This message was sent to wiseinboxtester@gmail.com\n",
            "\n",
            "Privacy Policy <https://hrtechprivacy.com/brands/glassdoor> | Unsubscribe \n",
            "<https://mailesp.glassdoor.com/e/eh?_t=0094c5801d8241768b44a3820ec5de16&_m=090ef879fc264f4ba68fee3059b952bd&_e=4En8YI-biTE-leTWgZicDH3ldxv9C1pyjbnco1DOoPzX-N-zzDhw0kMxdQ5JaYvkL7h2TeFCyvXWG0NXvzEvdLTfm3qCnWRiuEzxWhulg0nxYYgZcR6wqo0zVHrjuIy3FOR7_WQOHD87kxGreRAsVg3GqfAPgQGnwNUssyXItX0NCz8eatJrNSjrgVnRtagsVjwdbFci9NAPVVOk_imNXzcx2-fpWt5h3W4gvofsm7rSI329jvKNNci0lsADKaC3Fh955ayn1fcvX292e7GAN-0gRgJqDGlv5raSXh15ISIUlHADZgXvxvbM_iaZd8iZgSCdqhNUWtDyzej3euO1EQ%3D%3D>\n",
            " <https://glassdoor.com/home>   \n",
            "0.6 chance this is a Safe Email\n",
            "Glassdoor See all the open roles across today's top trending industries. \n",
            " ‌ ‌ ‌ ‌ ‌ ‌ ‌ ‌ ‌ ‌ ‌ ‌ ‌ ‌ ‌ ‌ ‌ ‌ ‌ ‌ ‌ ‌ ‌ ‌ ‌ ‌ ‌ ‌ ‌ ‌ ‌ ‌ ‌ ‌ ‌ ‌ ‌ ‌ ‌ \n",
            "‌ ‌ ‌ ‌ ‌ ‌ ‌ ‌ ‌ ‌ ‌ ‌ ‌ ‌ ‌ ‌ ‌ ‌ ‌ ‌ ‌ ‌ ‌ ‌ ‌ ‌ ‌ ‌ ‌ ‌ ‌ ‌ ‌ ‌ ‌ ‌ ‌ ‌ ‌ ‌ \n",
            "‌ ‌ ‌ ‌ ‌ ‌ ‌ ‌ ‌ ‌ ͏ ͏͏ ͏͏ ͏  <>  <>   \n",
            " <https://www.glassdoor.com/blog/companies-actively-hiring/> \n",
            " <https://www.glassdoor.com/blog/companies-actively-hiring/>   \n",
            "Companies actively hiring\n",
            "\n",
            " Looking for a job that's a perfect match? Whether you're looking for a new \n",
            "company or a career change, here are 52 companies actively hiring this month.\n",
            "\n",
            "See companies <https://www.glassdoor.com/blog/companies-actively-hiring/>\n",
            "   <https://www.glassdoor.com/Community/index.htm> \n",
            " Have you taken Communities for a spin? \n",
            "\n",
            "Join the conversation > <https://www.glassdoor.com/Community/index.htm>\n",
            "     <https://www.glassdoor.com/>  <https://www.facebook.com/glassdoor>  \n",
            "<https://www.instagram.com/glassdoor>  <https://www.twitter.com/glassdoor>  \n",
            "<https://www.youtube.com/glassdoor> \n",
            "300 Mission Street, San Francisco, CA 94105\n",
            "\n",
            "©2008–2024, Glassdoor LLC \"Glassdoor\" and its logo are registered trademarks \n",
            "of Glassdoor LLC.\n",
            "\n",
            "This message was sent to wiseinboxtester@gmail.com\n",
            "\n",
            "Privacy Policy <https://hrtechprivacy.com/brands/glassdoor> | Unsubscribe \n",
            "<https://mailesp.glassdoor.com/e/eh?_t=0094c5801d8241768b44a3820ec5de16&_m=b311b58e751344a1a97db5777d184ec8&_e=6a2ScegKxWdiQKNKgcdpN2_u0uQv788RoVC_E8bt91KhFGz10DLjT168_unTed7bSTCvWT_V_D17KNS7PwTVMdLbnInOuY_817CbVEjjDRbSiDJIzjCv9ddV_-iT0Q1yO0sKtoZWcXumwEbhXwGfpiw6e2MOmS8lmWwhzttHfWFdwHqL0SkOttHhh--kz07cb7KQUSCHfBI8sLbKqmvg1RcO8st54Ekf6chUO36nA06A7KFooYURuWyh6UwFjV-_mjvhnvRPhKMElRZf0oqNW41KfkpS8ZbGX9dU9PyvyzokoGXC7ftbDvf6F1K6JpRcugp7Ldx2KYy3pIvSBZAfoQ%3D%3D>\n",
            " <https://www.glassdoor.com/>   \n",
            "0.7 chance this is a Phishing Email\n"
          ]
        }
      ],
      "source": [
        "os.environ[\"TOKEN\"] = userdata.get(\"TOKEN\")\n",
        "ngrok.set_auth_token(os.environ[\"TOKEN\"])\n",
        "\n",
        "ngrok_tunnel = ngrok.connect(8000)\n",
        "\n",
        "# print('Public URL:', ngrok_tunnel.public_url)\n",
        "# print(\"Here is a test command to run in a terminal: \")\n",
        "# print('curl --insecure -X POST -H \"Content-Type: application/json\" -d \\'{\\n' +\n",
        "#       '\\t\"Email\": \"example@example.com\",\\n\\t\"Sender\": \"John Doe\",\\n\\t\"Subject\": \"Important News\" \\n}\\' ' +\n",
        "#       ngrok_tunnel.public_url + \"/email_prediction\")\n",
        "\n",
        "print(\"Running at public URL:\", ngrok_tunnel.public_url + \"/email_prediction\")\n",
        "\n",
        "nest_asyncio.apply()\n",
        "uvicorn.run(app, port=8000, log_level=\"warning\")"
      ]
    },
    {
      "cell_type": "code",
      "execution_count": null,
      "metadata": {
        "id": "qk2NHPkUwR5I"
      },
      "outputs": [],
      "source": []
    }
  ],
  "metadata": {
    "colab": {
      "provenance": [],
      "mount_file_id": "1KTnxT6vUU93cSIxQ2uTfV7IPC50POcvH",
      "authorship_tag": "ABX9TyMA/VeaMPukE13C5DyUKbxP",
      "include_colab_link": true
    },
    "kernelspec": {
      "display_name": "Python 3",
      "name": "python3"
    },
    "language_info": {
      "name": "python"
    }
  },
  "nbformat": 4,
  "nbformat_minor": 0
}