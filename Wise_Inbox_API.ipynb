{
  "cells": [
    {
      "cell_type": "markdown",
      "metadata": {
        "id": "view-in-github",
        "colab_type": "text"
      },
      "source": [
        "<a href=\"https://colab.research.google.com/github/cwagner2325/WiseInbox_ML/blob/main/Wise_Inbox_API.ipynb\" target=\"_parent\"><img src=\"https://colab.research.google.com/assets/colab-badge.svg\" alt=\"Open In Colab\"/></a>"
      ]
    },
    {
      "cell_type": "code",
      "execution_count": null,
      "metadata": {
        "id": "TS9TTfB_nIl0"
      },
      "outputs": [],
      "source": [
        "!pip install fastapi\n",
        "!pip install uvicorn\n",
        "!pip install pickle5\n",
        "!pip install pydantic\n",
        "!pip install scikit-learn\n",
        "!pip install requests\n",
        "!pip install pypi-json\n",
        "!pip install pyngrok\n",
        "!pip install nest-asyncio\n",
        "!pip install scikit-learn"
      ]
    },
    {
      "cell_type": "code",
      "execution_count": 2,
      "metadata": {
        "id": "OSIh9lLguWZA"
      },
      "outputs": [],
      "source": [
        "from fastapi import FastAPI\n",
        "from pydantic import BaseModel\n",
        "import pickle\n",
        "import json\n",
        "import uvicorn\n",
        "from pyngrok import ngrok\n",
        "from fastapi.middleware.cors import CORSMiddleware\n",
        "import nest_asyncio\n",
        "import random\n",
        "import os\n",
        "from google.colab import userdata\n",
        "from pyngrok import conf\n",
        "from time import sleep\n",
        "import sklearn\n",
        "from sklearn.pipeline import Pipeline"
      ]
    },
    {
      "cell_type": "code",
      "execution_count": 10,
      "metadata": {
        "id": "3M3gj8Knum4F"
      },
      "outputs": [],
      "source": [
        "app = FastAPI()"
      ]
    },
    {
      "cell_type": "code",
      "execution_count": 11,
      "metadata": {
        "id": "J_ldF_cPupgQ"
      },
      "outputs": [],
      "source": [
        "origins = [\"*\"]\n",
        "\n",
        "app.add_middleware(\n",
        "    CORSMiddleware,\n",
        "    allow_origins=origins,\n",
        "    allow_credentials=True,\n",
        "    allow_methods=[\"*\"],\n",
        "    allow_headers=[\"*\"],\n",
        ")"
      ]
    },
    {
      "cell_type": "code",
      "execution_count": 12,
      "metadata": {
        "id": "jzTzJRrnurtd"
      },
      "outputs": [],
      "source": [
        "class model_input(BaseModel):\n",
        "\n",
        "    Email : str\n",
        "    Sender: str\n",
        "    Subject : str"
      ]
    },
    {
      "cell_type": "code",
      "execution_count": 13,
      "metadata": {
        "id": "HwlxDP2AvOgD"
      },
      "outputs": [],
      "source": [
        "with open('/content/drive/MyDrive/XGBModel4', 'rb') as model_file:\n",
        "    classifier = pickle.load(model_file)\n",
        "\n",
        "with open('/content/drive/MyDrive/XGBModel4Vectorizer', 'rb') as vectorizer_file:\n",
        "    vectorizer = pickle.load(vectorizer_file)"
      ]
    },
    {
      "cell_type": "code",
      "execution_count": 14,
      "metadata": {
        "id": "n0r532SwKCXm"
      },
      "outputs": [],
      "source": [
        "def predictEmail(input_text):\n",
        "  transformed_email = vectorizer.transform([input_text])\n",
        "  prediction = classifier.predict(transformed_email)\n",
        "  probabilities = classifier.predict_proba(transformed_email)\n",
        "\n",
        "  PHISHING = 1;\n",
        "  SAFE = 0\n",
        "\n",
        "  if prediction == SAFE:\n",
        "      print(\"Predicted class: Safe Email\")\n",
        "      print(\"Probabilities:\", probabilities.item(0))\n",
        "      return \"Safe Email\", probabilities.item(0)\n",
        "  elif prediction == PHISHING:\n",
        "      print(\"Predicted class: Phishing Email\")\n",
        "      print(\"Probabilities:\", probabilities.item(1))\n",
        "      return \"Phishing Email\", probabilities.item(1)"
      ]
    },
    {
      "cell_type": "code",
      "execution_count": 15,
      "metadata": {
        "id": "xgBICSj-u8xc"
      },
      "outputs": [],
      "source": [
        "@app.post('/email_prediction')\n",
        "def email_prediction(input_parameters : model_input):\n",
        "    input_data = input_parameters.json()\n",
        "    input_dictionary = json.loads(input_data)\n",
        "\n",
        "    emailBody = input_dictionary['Email']\n",
        "    sender = input_dictionary['Sender']\n",
        "    subject = input_dictionary['Subject']\n",
        "\n",
        "    predictionResult, confidence = predictEmail(emailBody)\n",
        "\n",
        "    if predictionResult == \"Phishing Email\":\n",
        "        # If confidence is 1 - prediction is 50\n",
        "        # If confidence is .7 - prediction is 68\n",
        "        # If confidence is .5 - prediciton is 80\n",
        "        prediction = 110 - (60 * confidence)\n",
        "    else:\n",
        "        prediction = 80 + (20 * confidence)\n",
        "\n",
        "    return {\"prediction\": prediction}"
      ]
    },
    {
      "cell_type": "code",
      "execution_count": null,
      "metadata": {
        "colab": {
          "base_uri": "https://localhost:8080/"
        },
        "id": "Ot0d9HUowPUY",
        "outputId": "c8c92827-a712-4292-a123-b6300753a130"
      },
      "outputs": [
        {
          "metadata": {
            "tags": null
          },
          "name": "stdout",
          "output_type": "stream",
          "text": [
            "Running at public URL: https://a9a8-35-236-170-4.ngrok-free.app/email_prediction\n",
            "Predicted class: Safe Email\n",
            "Probabilities: 0.9286127686500549\n",
            "Predicted class: Safe Email\n",
            "Probabilities: 0.5999019742012024\n",
            "Predicted class: Phishing Email\n",
            "Probabilities: 0.7536976337432861\n",
            "Predicted class: Safe Email\n",
            "Probabilities: 0.9868502616882324\n",
            "Predicted class: Phishing Email\n",
            "Probabilities: 0.9643445014953613\n",
            "Predicted class: Phishing Email\n",
            "Probabilities: 0.5659196972846985\n",
            "Predicted class: Safe Email\n",
            "Probabilities: 0.8871576189994812\n",
            "Predicted class: Phishing Email\n",
            "Probabilities: 0.8821790814399719\n",
            "Predicted class: Phishing Email\n",
            "Probabilities: 0.8821790814399719\n",
            "Predicted class: Phishing Email\n",
            "Probabilities: 0.9643445014953613\n",
            "Predicted class: Safe Email\n",
            "Probabilities: 0.9927634000778198\n",
            "Predicted class: Safe Email\n",
            "Probabilities: 0.8871576189994812\n",
            "Predicted class: Phishing Email\n",
            "Probabilities: 0.7536976337432861\n",
            "Predicted class: Phishing Email\n",
            "Probabilities: 0.8324265480041504\n"
          ]
        }
      ],
      "source": [
        "os.environ[\"TOKEN\"] = userdata.get(\"TOKEN\")\n",
        "ngrok.set_auth_token(os.environ[\"TOKEN\"])\n",
        "\n",
        "ngrok_tunnel = ngrok.connect(8000)\n",
        "\n",
        "# print('Public URL:', ngrok_tunnel.public_url)\n",
        "# print(\"Here is a test command to run in a terminal: \")\n",
        "# print('curl --insecure -X POST -H \"Content-Type: application/json\" -d \\'{\\n' +\n",
        "#       '\\t\"Email\": \"example@example.com\",\\n\\t\"Sender\": \"John Doe\",\\n\\t\"Subject\": \"Important News\" \\n}\\' ' +\n",
        "#       ngrok_tunnel.public_url + \"/email_prediction\")\n",
        "\n",
        "print(\"Running at public URL:\", ngrok_tunnel.public_url + \"/email_prediction\")\n",
        "\n",
        "nest_asyncio.apply()\n",
        "uvicorn.run(app, port=8000, log_level=\"warning\")"
      ]
    },
    {
      "cell_type": "code",
      "execution_count": null,
      "metadata": {
        "id": "qk2NHPkUwR5I"
      },
      "outputs": [],
      "source": []
    }
  ],
  "metadata": {
    "colab": {
      "provenance": [],
      "mount_file_id": "1KTnxT6vUU93cSIxQ2uTfV7IPC50POcvH",
      "authorship_tag": "ABX9TyN2sZtXkN0XvPfKtnXcVoV4",
      "include_colab_link": true
    },
    "kernelspec": {
      "display_name": "Python 3",
      "name": "python3"
    },
    "language_info": {
      "name": "python"
    }
  },
  "nbformat": 4,
  "nbformat_minor": 0
}